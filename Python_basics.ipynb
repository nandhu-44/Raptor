{
  "nbformat": 4,
  "nbformat_minor": 0,
  "metadata": {
    "colab": {
      "provenance": [],
      "authorship_tag": "ABX9TyP2bKlG4p4qzbJeIKgtLBte",
      "include_colab_link": true
    },
    "kernelspec": {
      "name": "python3",
      "display_name": "Python 3"
    },
    "language_info": {
      "name": "python"
    }
  },
  "cells": [
    {
      "cell_type": "markdown",
      "metadata": {
        "id": "view-in-github",
        "colab_type": "text"
      },
      "source": [
        "<a href=\"https://colab.research.google.com/github/nandhu-44/Raptor/blob/main/Python_basics.ipynb\" target=\"_parent\"><img src=\"https://colab.research.google.com/assets/colab-badge.svg\" alt=\"Open In Colab\"/></a>"
      ]
    },
    {
      "cell_type": "code",
      "execution_count": 9,
      "metadata": {
        "colab": {
          "base_uri": "https://localhost:8080/"
        },
        "id": "QH2RJ_iWa8pO",
        "outputId": "2483fbdc-3271-4bef-c7ea-1bdd267a78d9"
      },
      "outputs": [
        {
          "output_type": "stream",
          "name": "stdout",
          "text": [
            "Hello World <class 'str'>\n"
          ]
        }
      ],
      "source": [
        "st = \"Hello World\"\n",
        "print(st,type(st))"
      ]
    },
    {
      "cell_type": "code",
      "source": [
        "a = 5\n",
        "b = 1.25\n",
        "print(a,b)\n",
        "print(type(a),type(b))"
      ],
      "metadata": {
        "colab": {
          "base_uri": "https://localhost:8080/"
        },
        "id": "_zLwjveKc_YZ",
        "outputId": "b540b23d-c904-4016-9250-282dee437406"
      },
      "execution_count": 7,
      "outputs": [
        {
          "output_type": "stream",
          "name": "stdout",
          "text": [
            "5 1.25\n",
            "<class 'int'> <class 'float'>\n"
          ]
        }
      ]
    },
    {
      "cell_type": "code",
      "source": [
        "f = True\n",
        "print(f,type(f))"
      ],
      "metadata": {
        "colab": {
          "base_uri": "https://localhost:8080/"
        },
        "id": "2bsBf5hRdC_9",
        "outputId": "700cd245-82dc-4960-c66f-8f33b641778f"
      },
      "execution_count": 6,
      "outputs": [
        {
          "output_type": "stream",
          "name": "stdout",
          "text": [
            "True <class 'bool'>\n"
          ]
        }
      ]
    },
    {
      "cell_type": "code",
      "source": [
        "y = 5 + 3j\n",
        "print(y,type(y))"
      ],
      "metadata": {
        "colab": {
          "base_uri": "https://localhost:8080/"
        },
        "id": "klQcCmS7dbqT",
        "outputId": "693008e8-fb91-4d16-dd5b-68bfb1c97b3f"
      },
      "execution_count": 8,
      "outputs": [
        {
          "output_type": "stream",
          "name": "stdout",
          "text": [
            "(5+3j) <class 'complex'>\n"
          ]
        }
      ]
    },
    {
      "cell_type": "code",
      "source": [
        "a = 8\n",
        "b = 5\n",
        "\n",
        "ab_sum = a + b\n",
        "print(ab_sum)\n",
        "\n",
        "ab_diff = a - b\n",
        "print(ab_diff)\n",
        "\n",
        "ab_pdt = a * b\n",
        "print(ab_pdt)"
      ],
      "metadata": {
        "colab": {
          "base_uri": "https://localhost:8080/"
        },
        "id": "5nggKbbQegaQ",
        "outputId": "777b17fa-19ff-41b7-f9e8-98b02f9539e1"
      },
      "execution_count": 10,
      "outputs": [
        {
          "output_type": "stream",
          "name": "stdout",
          "text": [
            "13\n",
            "3\n",
            "40\n"
          ]
        }
      ]
    },
    {
      "cell_type": "code",
      "source": [
        "ab_quo = a/b\n",
        "print(ab_quo)\n",
        "\n",
        "ab_iquo = a//b\n",
        "print(ab_iquo)\n",
        "\n",
        "ab_rem = a % b\n",
        "print(ab_rem)\n",
        "\n",
        "ab_pow =  a ** b\n",
        "print(ab_pow)"
      ],
      "metadata": {
        "colab": {
          "base_uri": "https://localhost:8080/"
        },
        "id": "qVIhVRtFfSJH",
        "outputId": "83302978-02ab-41ad-aabf-9c275936a147"
      },
      "execution_count": 13,
      "outputs": [
        {
          "output_type": "stream",
          "name": "stdout",
          "text": [
            "1.6\n",
            "1\n",
            "3\n",
            "32768\n"
          ]
        }
      ]
    },
    {
      "cell_type": "code",
      "source": [
        "# Average of three numbers\n",
        "\n",
        "num1 = int(input(\"Enter number1: \"))\n",
        "num2 = int(input(\"Enter number2: \"))\n",
        "num3 = int(input(\"Enter number3: \"))\n",
        "sum = num1 + num2 + num3\n",
        "average = sum/3\n",
        "print(f\"Average of {num1} , {num2} and {num3} is {average}\")\n"
      ],
      "metadata": {
        "colab": {
          "base_uri": "https://localhost:8080/"
        },
        "id": "AKogZJUcgKNl",
        "outputId": "6fe01751-0390-4198-8dc9-4b8ec5a45585"
      },
      "execution_count": 18,
      "outputs": [
        {
          "output_type": "stream",
          "name": "stdout",
          "text": [
            "Enter number1: 12\n",
            "Enter number2: 13\n",
            "Enter number3: 14\n",
            "Average of 12 , 13 and 14 is 13.0\n"
          ]
        }
      ]
    },
    {
      "cell_type": "markdown",
      "source": [],
      "metadata": {
        "id": "Is12XVACuZgb"
      }
    },
    {
      "cell_type": "code",
      "source": [
        "# Area and perimeter of a triangle\n",
        "\n",
        "import math\n",
        "\n",
        "a = int(input(\"Length of side 1: \"))\n",
        "b = int(input(\"Length of side 2: \"))\n",
        "c = int(input(\"Length of side 3: \"))\n",
        "p = a + b + c\n",
        "s = p/2\n",
        "Area = math.sqrt(s*(s-a)*(s-b)*(s-c))\n",
        "print(f\"Perimeter is {p} \\nArea is {Area}\")\n"
      ],
      "metadata": {
        "colab": {
          "base_uri": "https://localhost:8080/"
        },
        "id": "XXSl7mAjnlU3",
        "outputId": "65c5f781-581a-4b82-a6ce-4c790fe8a0b5"
      },
      "execution_count": 17,
      "outputs": [
        {
          "output_type": "stream",
          "name": "stdout",
          "text": [
            "Length of side 1: 12\n",
            "Length of side 2: 12\n",
            "Length of side 3: 12\n",
            "Perimeter is 36 \n",
            "Area is 62.353829072479584\n"
          ]
        }
      ]
    }
  ]
}